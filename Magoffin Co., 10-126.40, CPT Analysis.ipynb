{
 "metadata": {
  "language_info": {
   "codemirror_mode": {
    "name": "ipython",
    "version": 3
   },
   "file_extension": ".py",
   "mimetype": "text/x-python",
   "name": "python",
   "nbconvert_exporter": "python",
   "pygments_lexer": "ipython3",
   "version": "3.7.8-final"
  },
  "orig_nbformat": 2,
  "kernelspec": {
   "name": "python3",
   "display_name": "Python 3.7.8 64-bit",
   "metadata": {
    "interpreter": {
     "hash": "3d915f43284c5650bd359382087467555be4a9e720a5e6f77f2126ebac7d01fb"
    }
   }
  }
 },
 "nbformat": 4,
 "nbformat_minor": 2,
 "cells": [
  {
   "source": [
    "# Magoffin Co., 10-126.40, CPT Analysis"
   ],
   "cell_type": "markdown",
   "metadata": {}
  },
  {
   "cell_type": "code",
   "execution_count": 1,
   "metadata": {},
   "outputs": [],
   "source": [
    "import importlib\n",
    "import csv\n",
    "import pandas as pd\n",
    "import numpy as np"
   ]
  },
  {
   "cell_type": "code",
   "execution_count": 2,
   "metadata": {},
   "outputs": [
    {
     "output_type": "execute_result",
     "data": {
      "text/plain": [
       "<module 'main' from 'c:\\\\Users\\\\clayt\\\\Documents\\\\Python Scripts\\\\CPTPython\\\\main.py'>"
      ]
     },
     "metadata": {},
     "execution_count": 2
    }
   ],
   "source": [
    "import main\n",
    "importlib.reload(main) # Reload py file to get updates in file if resaved"
   ]
  },
  {
   "source": [
    "## Original Design Parameters from S-085-2017\n",
    "\n",
    "70 ft of fill, γ = 120 pcf<br/>\n",
    "7 ft softer silty sand, γ = 105 pcf<br/>\n",
    "10 ft of denser silty sand, γ = 117.5 pcf<br/>\n",
    "\n",
    "Used Hough Method for Settlement Calculation\n",
    "<br/>\n",
    "<br/>\n",
    "<img src=\"img/modifiedhoughsettlement.png\"\n",
    "     alt=\"img\"\n",
    "     style=\"float: center\"\n",
    "     width=600/>\n",
    "<img src=\"img/modifiedhoughsettlementc'.png\"\n",
    "     alt=\"img\"\n",
    "     style=\"float: center\"\n",
    "     width=600/>\n",
    "<br/>\n",
    "<br/>\n",
    "\n",
    "## Used Design Parameters\n",
    "Used N160 ≈ 4 for bearing capacity index<br>\n",
    "c' ≈ 25 for Inorganic Silt\n",
    "<br/><br/>\n",
    "Layer 1:<br/>\n",
    "$ \\Delta H = 7ft (\\frac{1}{25}) log_{10} (\\frac{370 psf + 8400 psf}{370 psf}) = 0.38 ft$\n",
    "<br/><br/>\n",
    "Layer 2:<br/>\n",
    "$ \\Delta H = 10ft (\\frac{1}{25}) log_{10} (\\frac{1300 psf + 8400 psf}{1300 psf}) = 0.34 ft$\n",
    "<br/><br/>\n",
    "Total:<br/>\n",
    "$ \\Delta H = 0.38ft + 0.34 ft = 0.72 ft = 8.64 inches$\n",
    "\n",
    "Estimated Settlement <b>9 inches</b> with no replacement\n",
    "\n",
    "## Performance Settlement\n",
    "With Replacement of 5 feet of fill with granular reduced settlement to <b>4 inches</b>."
   ],
   "cell_type": "markdown",
   "metadata": {}
  },
  {
   "source": [
    "## Use Estimated N60 Value for Comparision\n",
    "\n",
    "<img src=\"img/CPT Estimate of SPT.png\"\n",
    "     alt=\"img\"\n",
    "     style=\"float: center\"\n",
    "     width=600/>\n"
   ],
   "cell_type": "markdown",
   "metadata": {}
  },
  {
   "source": [
    "## Estimated CPT Values to Validate Design"
   ],
   "cell_type": "markdown",
   "metadata": {}
  },
  {
   "source": [
    "<img src=\"img/Normilized CPT Soil Behavior Type.png\"\n",
    "     alt=\"img\"\n",
    "     style=\"float: center\"\n",
    "     width=600/>"
   ],
   "cell_type": "markdown",
   "metadata": {}
  },
  {
   "cell_type": "code",
   "execution_count": 3,
   "metadata": {},
   "outputs": [],
   "source": [
    "def SPT_JandD_est(qt, pa, Ic):\n",
    "    \"\"\"\n",
    "    Calculates the Estimated N60 from Cone Penetration Testing\n",
    "\n",
    "    Based on Method Given by Jefferies and Davis (1993)\n",
    "\n",
    "    Parameters\n",
    "    ----------\n",
    "        qt (float): cone resistance, MPa or psi typically\n",
    "                    Note: For fine grained soft soils the correlations should\n",
    "                    be applied to total cone resistance, qt. In sandy soils\n",
    "                    qc = qt\n",
    "        pa (float): atmopheric pressure to normalize pressure\n",
    "                    atm = 0.101325 MPa = 14.6959 psi\n",
    "        Ic (float): CPT Material Index (Ic) at convergence\n",
    "    \n",
    "    Returns\n",
    "    -------\n",
    "        float: N60 estimate\n",
    "    \"\"\"\n",
    "\n",
    "    return (qt/pa)/(8.5 * (1 - (Ic/4.6))) "
   ]
  },
  {
   "cell_type": "code",
   "execution_count": 4,
   "metadata": {},
   "outputs": [
    {
     "output_type": "stream",
     "name": "stdout",
     "text": [
      "In Silt Mixture Need\n1.25 MPa for cone tip resistance to equal 4 N60 value\n"
     ]
    }
   ],
   "source": [
    "qt = 1.25 #MPa\n",
    "pa = 0.101325 #MPa\n",
    "Ic = 2.95 # Silt Mixtures\n",
    "print(\"In Silt Mixture Need\")\n",
    "print(\"{:.2f} MPa for cone tip resistance to equal {:.0f} N60 value\".format(qt,SPT_JandD_est(qt, pa, Ic)))"
   ]
  }
 ]
}